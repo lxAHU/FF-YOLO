{
 "cells": [
  {
   "cell_type": "code",
   "execution_count": null,
   "id": "237717bc",
   "metadata": {},
   "outputs": [],
   "source": [
    "#--------------------------------------------#\n",
    "#   该部分代码用于看网络结构\n",
    "#--------------------------------------------#\n",
    "import torch\n",
    "from thop import clever_format, profile\n",
    "\n",
    "from nets.yolo import YoloBody\n",
    "\n",
    "if __name__ == \"__main__\":\n",
    "    input_shape     = [640, 640]\n",
    "    anchors_mask    = [[6, 7, 8], [3, 4, 5], [0, 1, 2]]\n",
    "    num_classes     = 80\n",
    "    phi             = 's'\n",
    "    \n",
    "    device  = torch.device(\"cuda\" if torch.cuda.is_available() else \"cpu\")\n",
    "    m       = YoloBody(input_shape, num_classes, phi, False).to(device)\n",
    "    for i in m.children():\n",
    "        print(i)\n",
    "        print('==============================')\n",
    "    \n",
    "    dummy_input     = torch.randn(1, 3, input_shape[0], input_shape[1]).to(device)\n",
    "    flops, params   = profile(m.to(device), (dummy_input, ), verbose=False)\n",
    "    #--------------------------------------------------------#\n",
    "    #   flops * 2是因为profile没有将卷积作为两个operations\n",
    "    #   有些论文将卷积算乘法、加法两个operations。此时乘2\n",
    "    #   有些论文只考虑乘法的运算次数，忽略加法。此时不乘2\n",
    "    #   本代码选择乘2，参考YOLOX。\n",
    "    #--------------------------------------------------------#\n",
    "    flops           = flops * 2\n",
    "    flops, params   = clever_format([flops, params], \"%.3f\")\n",
    "    print('Total GFLOPS: %s' % (flops))\n",
    "    print('Total params: %s' % (params))\n"
   ]
  },
  {
   "cell_type": "code",
   "execution_count": 3,
   "id": "605df88e",
   "metadata": {},
   "outputs": [
    {
     "name": "stdout",
     "output_type": "stream",
     "text": [
      "^C\n"
     ]
    }
   ],
   "source": []
  },
  {
   "cell_type": "code",
   "execution_count": null,
   "id": "714f6a5a",
   "metadata": {},
   "outputs": [],
   "source": []
  }
 ],
 "metadata": {
  "kernelspec": {
   "display_name": "torch[python3.9]",
   "language": "python",
   "name": "pytorchuse"
  },
  "language_info": {
   "codemirror_mode": {
    "name": "ipython",
    "version": 3
   },
   "file_extension": ".py",
   "mimetype": "text/x-python",
   "name": "python",
   "nbconvert_exporter": "python",
   "pygments_lexer": "ipython3",
   "version": "3.9.19"
  }
 },
 "nbformat": 4,
 "nbformat_minor": 5
}
